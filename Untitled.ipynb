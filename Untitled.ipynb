{
 "cells": [
  {
   "cell_type": "code",
   "execution_count": 6,
   "id": "cd802811-0535-4fed-b71b-06f8d2cbb6d8",
   "metadata": {},
   "outputs": [
    {
     "name": "stdout",
     "output_type": "stream",
     "text": [
      "Requirement already satisfied: sagemaker in /home/ec2-user/anaconda3/envs/python3/lib/python3.10/site-packages (2.239.2)\n",
      "Collecting sagemaker\n",
      "  Downloading sagemaker-2.240.0-py3-none-any.whl.metadata (16 kB)\n",
      "Requirement already satisfied: pydantic in /home/ec2-user/anaconda3/envs/python3/lib/python3.10/site-packages (2.10.6)\n",
      "Requirement already satisfied: attrs<24,>=23.1.0 in /home/ec2-user/anaconda3/envs/python3/lib/python3.10/site-packages (from sagemaker) (23.2.0)\n",
      "Requirement already satisfied: boto3<2.0,>=1.35.75 in /home/ec2-user/anaconda3/envs/python3/lib/python3.10/site-packages (from sagemaker) (1.36.23)\n",
      "Requirement already satisfied: cloudpickle>=2.2.1 in /home/ec2-user/anaconda3/envs/python3/lib/python3.10/site-packages (from sagemaker) (3.1.1)\n",
      "Requirement already satisfied: docker in /home/ec2-user/anaconda3/envs/python3/lib/python3.10/site-packages (from sagemaker) (7.1.0)\n",
      "Requirement already satisfied: fastapi in /home/ec2-user/anaconda3/envs/python3/lib/python3.10/site-packages (from sagemaker) (0.115.8)\n",
      "Requirement already satisfied: google-pasta in /home/ec2-user/anaconda3/envs/python3/lib/python3.10/site-packages (from sagemaker) (0.2.0)\n",
      "Requirement already satisfied: importlib-metadata<7.0,>=1.4.0 in /home/ec2-user/anaconda3/envs/python3/lib/python3.10/site-packages (from sagemaker) (6.11.0)\n",
      "Requirement already satisfied: jsonschema in /home/ec2-user/anaconda3/envs/python3/lib/python3.10/site-packages (from sagemaker) (4.23.0)\n",
      "Requirement already satisfied: numpy<2.0,>=1.9.0 in /home/ec2-user/anaconda3/envs/python3/lib/python3.10/site-packages (from sagemaker) (1.26.4)\n",
      "Requirement already satisfied: omegaconf<=2.3,>=2.2 in /home/ec2-user/anaconda3/envs/python3/lib/python3.10/site-packages (from sagemaker) (2.3.0)\n",
      "Requirement already satisfied: packaging>=20.0 in /home/ec2-user/anaconda3/envs/python3/lib/python3.10/site-packages (from sagemaker) (21.3)\n",
      "Requirement already satisfied: pandas in /home/ec2-user/anaconda3/envs/python3/lib/python3.10/site-packages (from sagemaker) (1.5.3)\n",
      "Requirement already satisfied: pathos in /home/ec2-user/anaconda3/envs/python3/lib/python3.10/site-packages (from sagemaker) (0.3.3)\n",
      "Requirement already satisfied: platformdirs in /home/ec2-user/anaconda3/envs/python3/lib/python3.10/site-packages (from sagemaker) (4.3.6)\n",
      "Requirement already satisfied: protobuf<6.0,>=3.12 in /home/ec2-user/anaconda3/envs/python3/lib/python3.10/site-packages (from sagemaker) (5.29.3)\n",
      "Requirement already satisfied: psutil in /home/ec2-user/anaconda3/envs/python3/lib/python3.10/site-packages (from sagemaker) (6.1.1)\n",
      "Requirement already satisfied: pyyaml~=6.0 in /home/ec2-user/anaconda3/envs/python3/lib/python3.10/site-packages (from sagemaker) (6.0.2)\n",
      "Requirement already satisfied: requests in /home/ec2-user/anaconda3/envs/python3/lib/python3.10/site-packages (from sagemaker) (2.32.3)\n",
      "Requirement already satisfied: sagemaker-core<2.0.0,>=1.0.17 in /home/ec2-user/anaconda3/envs/python3/lib/python3.10/site-packages (from sagemaker) (1.0.22)\n",
      "Requirement already satisfied: schema in /home/ec2-user/anaconda3/envs/python3/lib/python3.10/site-packages (from sagemaker) (0.7.7)\n",
      "Requirement already satisfied: smdebug-rulesconfig==1.0.1 in /home/ec2-user/anaconda3/envs/python3/lib/python3.10/site-packages (from sagemaker) (1.0.1)\n",
      "Requirement already satisfied: tblib<4,>=1.7.0 in /home/ec2-user/anaconda3/envs/python3/lib/python3.10/site-packages (from sagemaker) (3.0.0)\n",
      "Requirement already satisfied: tqdm in /home/ec2-user/anaconda3/envs/python3/lib/python3.10/site-packages (from sagemaker) (4.67.1)\n",
      "Requirement already satisfied: urllib3<3.0.0,>=1.26.8 in /home/ec2-user/anaconda3/envs/python3/lib/python3.10/site-packages (from sagemaker) (2.3.0)\n",
      "Requirement already satisfied: uvicorn in /home/ec2-user/anaconda3/envs/python3/lib/python3.10/site-packages (from sagemaker) (0.34.0)\n",
      "Requirement already satisfied: annotated-types>=0.6.0 in /home/ec2-user/anaconda3/envs/python3/lib/python3.10/site-packages (from pydantic) (0.7.0)\n",
      "Requirement already satisfied: pydantic-core==2.27.2 in /home/ec2-user/anaconda3/envs/python3/lib/python3.10/site-packages (from pydantic) (2.27.2)\n",
      "Requirement already satisfied: typing-extensions>=4.12.2 in /home/ec2-user/anaconda3/envs/python3/lib/python3.10/site-packages (from pydantic) (4.12.2)\n",
      "Requirement already satisfied: botocore<1.37.0,>=1.36.23 in /home/ec2-user/anaconda3/envs/python3/lib/python3.10/site-packages (from boto3<2.0,>=1.35.75->sagemaker) (1.36.23)\n",
      "Requirement already satisfied: jmespath<2.0.0,>=0.7.1 in /home/ec2-user/anaconda3/envs/python3/lib/python3.10/site-packages (from boto3<2.0,>=1.35.75->sagemaker) (1.0.1)\n",
      "Requirement already satisfied: s3transfer<0.12.0,>=0.11.0 in /home/ec2-user/anaconda3/envs/python3/lib/python3.10/site-packages (from boto3<2.0,>=1.35.75->sagemaker) (0.11.2)\n",
      "Requirement already satisfied: zipp>=0.5 in /home/ec2-user/anaconda3/envs/python3/lib/python3.10/site-packages (from importlib-metadata<7.0,>=1.4.0->sagemaker) (3.21.0)\n",
      "Requirement already satisfied: antlr4-python3-runtime==4.9.* in /home/ec2-user/anaconda3/envs/python3/lib/python3.10/site-packages (from omegaconf<=2.3,>=2.2->sagemaker) (4.9.3)\n",
      "Requirement already satisfied: pyparsing!=3.0.5,>=2.0.2 in /home/ec2-user/anaconda3/envs/python3/lib/python3.10/site-packages (from packaging>=20.0->sagemaker) (3.2.1)\n",
      "Requirement already satisfied: rich<14.0.0,>=13.0.0 in /home/ec2-user/anaconda3/envs/python3/lib/python3.10/site-packages (from sagemaker-core<2.0.0,>=1.0.17->sagemaker) (13.9.4)\n",
      "Requirement already satisfied: mock<5.0,>4.0 in /home/ec2-user/anaconda3/envs/python3/lib/python3.10/site-packages (from sagemaker-core<2.0.0,>=1.0.17->sagemaker) (4.0.3)\n",
      "Requirement already satisfied: jsonschema-specifications>=2023.03.6 in /home/ec2-user/anaconda3/envs/python3/lib/python3.10/site-packages (from jsonschema->sagemaker) (2024.10.1)\n",
      "Requirement already satisfied: referencing>=0.28.4 in /home/ec2-user/anaconda3/envs/python3/lib/python3.10/site-packages (from jsonschema->sagemaker) (0.36.2)\n",
      "Requirement already satisfied: rpds-py>=0.7.1 in /home/ec2-user/anaconda3/envs/python3/lib/python3.10/site-packages (from jsonschema->sagemaker) (0.22.3)\n",
      "Requirement already satisfied: charset_normalizer<4,>=2 in /home/ec2-user/anaconda3/envs/python3/lib/python3.10/site-packages (from requests->sagemaker) (3.4.1)\n",
      "Requirement already satisfied: idna<4,>=2.5 in /home/ec2-user/anaconda3/envs/python3/lib/python3.10/site-packages (from requests->sagemaker) (3.10)\n",
      "Requirement already satisfied: certifi>=2017.4.17 in /home/ec2-user/anaconda3/envs/python3/lib/python3.10/site-packages (from requests->sagemaker) (2025.1.31)\n",
      "Requirement already satisfied: starlette<0.46.0,>=0.40.0 in /home/ec2-user/anaconda3/envs/python3/lib/python3.10/site-packages (from fastapi->sagemaker) (0.45.3)\n",
      "Requirement already satisfied: six in /home/ec2-user/anaconda3/envs/python3/lib/python3.10/site-packages (from google-pasta->sagemaker) (1.17.0)\n",
      "Requirement already satisfied: python-dateutil>=2.8.1 in /home/ec2-user/anaconda3/envs/python3/lib/python3.10/site-packages (from pandas->sagemaker) (2.9.0.post0)\n",
      "Requirement already satisfied: pytz>=2020.1 in /home/ec2-user/anaconda3/envs/python3/lib/python3.10/site-packages (from pandas->sagemaker) (2025.1)\n",
      "Requirement already satisfied: ppft>=1.7.6.9 in /home/ec2-user/anaconda3/envs/python3/lib/python3.10/site-packages (from pathos->sagemaker) (1.7.6.9)\n",
      "Requirement already satisfied: dill>=0.3.9 in /home/ec2-user/anaconda3/envs/python3/lib/python3.10/site-packages (from pathos->sagemaker) (0.3.9)\n",
      "Requirement already satisfied: pox>=0.3.5 in /home/ec2-user/anaconda3/envs/python3/lib/python3.10/site-packages (from pathos->sagemaker) (0.3.5)\n",
      "Requirement already satisfied: multiprocess>=0.70.17 in /home/ec2-user/anaconda3/envs/python3/lib/python3.10/site-packages (from pathos->sagemaker) (0.70.17)\n",
      "Requirement already satisfied: click>=7.0 in /home/ec2-user/anaconda3/envs/python3/lib/python3.10/site-packages (from uvicorn->sagemaker) (8.1.8)\n",
      "Requirement already satisfied: h11>=0.8 in /home/ec2-user/anaconda3/envs/python3/lib/python3.10/site-packages (from uvicorn->sagemaker) (0.14.0)\n",
      "Requirement already satisfied: markdown-it-py>=2.2.0 in /home/ec2-user/anaconda3/envs/python3/lib/python3.10/site-packages (from rich<14.0.0,>=13.0.0->sagemaker-core<2.0.0,>=1.0.17->sagemaker) (3.0.0)\n",
      "Requirement already satisfied: pygments<3.0.0,>=2.13.0 in /home/ec2-user/anaconda3/envs/python3/lib/python3.10/site-packages (from rich<14.0.0,>=13.0.0->sagemaker-core<2.0.0,>=1.0.17->sagemaker) (2.19.1)\n",
      "Requirement already satisfied: anyio<5,>=3.6.2 in /home/ec2-user/anaconda3/envs/python3/lib/python3.10/site-packages (from starlette<0.46.0,>=0.40.0->fastapi->sagemaker) (4.8.0)\n",
      "Requirement already satisfied: exceptiongroup>=1.0.2 in /home/ec2-user/anaconda3/envs/python3/lib/python3.10/site-packages (from anyio<5,>=3.6.2->starlette<0.46.0,>=0.40.0->fastapi->sagemaker) (1.2.2)\n",
      "Requirement already satisfied: sniffio>=1.1 in /home/ec2-user/anaconda3/envs/python3/lib/python3.10/site-packages (from anyio<5,>=3.6.2->starlette<0.46.0,>=0.40.0->fastapi->sagemaker) (1.3.1)\n",
      "Requirement already satisfied: mdurl~=0.1 in /home/ec2-user/anaconda3/envs/python3/lib/python3.10/site-packages (from markdown-it-py>=2.2.0->rich<14.0.0,>=13.0.0->sagemaker-core<2.0.0,>=1.0.17->sagemaker) (0.1.2)\n",
      "Downloading sagemaker-2.240.0-py3-none-any.whl (1.6 MB)\n",
      "\u001b[2K   \u001b[90m━━━━━━━━━━━━━━━━━━━━━━━━━━━━━━━━━━━━━━━━\u001b[0m \u001b[32m1.6/1.6 MB\u001b[0m \u001b[31m78.6 MB/s\u001b[0m eta \u001b[36m0:00:00\u001b[0m\n",
      "Installing collected packages: sagemaker\n",
      "  Attempting uninstall: sagemaker\n",
      "    Found existing installation: sagemaker 2.239.2\n",
      "    Uninstalling sagemaker-2.239.2:\n",
      "      Successfully uninstalled sagemaker-2.239.2\n",
      "Successfully installed sagemaker-2.240.0\n",
      "Note: you may need to restart the kernel to use updated packages.\n"
     ]
    }
   ],
   "source": [
    "pip install --upgrade sagemaker pydantic"
   ]
  },
  {
   "cell_type": "code",
   "execution_count": 93,
   "id": "7ffd4cca-e113-472c-9b8c-b9566a7ff7c9",
   "metadata": {},
   "outputs": [
    {
     "name": "stdout",
     "output_type": "stream",
     "text": [
      "Requirement already satisfied: sagemaker in /home/ec2-user/anaconda3/envs/python3/lib/python3.10/site-packages (2.240.0)\n",
      "Requirement already satisfied: attrs<24,>=23.1.0 in /home/ec2-user/anaconda3/envs/python3/lib/python3.10/site-packages (from sagemaker) (23.2.0)\n",
      "Requirement already satisfied: boto3<2.0,>=1.35.75 in /home/ec2-user/anaconda3/envs/python3/lib/python3.10/site-packages (from sagemaker) (1.36.23)\n",
      "Requirement already satisfied: cloudpickle>=2.2.1 in /home/ec2-user/anaconda3/envs/python3/lib/python3.10/site-packages (from sagemaker) (3.1.1)\n",
      "Requirement already satisfied: docker in /home/ec2-user/anaconda3/envs/python3/lib/python3.10/site-packages (from sagemaker) (7.1.0)\n",
      "Requirement already satisfied: fastapi in /home/ec2-user/anaconda3/envs/python3/lib/python3.10/site-packages (from sagemaker) (0.115.8)\n",
      "Requirement already satisfied: google-pasta in /home/ec2-user/anaconda3/envs/python3/lib/python3.10/site-packages (from sagemaker) (0.2.0)\n",
      "Requirement already satisfied: importlib-metadata<7.0,>=1.4.0 in /home/ec2-user/anaconda3/envs/python3/lib/python3.10/site-packages (from sagemaker) (6.11.0)\n",
      "Requirement already satisfied: jsonschema in /home/ec2-user/anaconda3/envs/python3/lib/python3.10/site-packages (from sagemaker) (4.23.0)\n",
      "Requirement already satisfied: numpy<2.0,>=1.9.0 in /home/ec2-user/anaconda3/envs/python3/lib/python3.10/site-packages (from sagemaker) (1.26.4)\n",
      "Requirement already satisfied: omegaconf<=2.3,>=2.2 in /home/ec2-user/anaconda3/envs/python3/lib/python3.10/site-packages (from sagemaker) (2.3.0)\n",
      "Requirement already satisfied: packaging>=20.0 in /home/ec2-user/anaconda3/envs/python3/lib/python3.10/site-packages (from sagemaker) (21.3)\n",
      "Requirement already satisfied: pandas in /home/ec2-user/anaconda3/envs/python3/lib/python3.10/site-packages (from sagemaker) (1.5.3)\n",
      "Requirement already satisfied: pathos in /home/ec2-user/anaconda3/envs/python3/lib/python3.10/site-packages (from sagemaker) (0.3.3)\n",
      "Requirement already satisfied: platformdirs in /home/ec2-user/anaconda3/envs/python3/lib/python3.10/site-packages (from sagemaker) (4.3.6)\n",
      "Requirement already satisfied: protobuf<6.0,>=3.12 in /home/ec2-user/anaconda3/envs/python3/lib/python3.10/site-packages (from sagemaker) (5.29.3)\n",
      "Requirement already satisfied: psutil in /home/ec2-user/anaconda3/envs/python3/lib/python3.10/site-packages (from sagemaker) (6.1.1)\n",
      "Requirement already satisfied: pyyaml~=6.0 in /home/ec2-user/anaconda3/envs/python3/lib/python3.10/site-packages (from sagemaker) (6.0.2)\n",
      "Requirement already satisfied: requests in /home/ec2-user/anaconda3/envs/python3/lib/python3.10/site-packages (from sagemaker) (2.32.3)\n",
      "Requirement already satisfied: sagemaker-core<2.0.0,>=1.0.17 in /home/ec2-user/anaconda3/envs/python3/lib/python3.10/site-packages (from sagemaker) (1.0.22)\n",
      "Requirement already satisfied: schema in /home/ec2-user/anaconda3/envs/python3/lib/python3.10/site-packages (from sagemaker) (0.7.7)\n",
      "Requirement already satisfied: smdebug-rulesconfig==1.0.1 in /home/ec2-user/anaconda3/envs/python3/lib/python3.10/site-packages (from sagemaker) (1.0.1)\n",
      "Requirement already satisfied: tblib<4,>=1.7.0 in /home/ec2-user/anaconda3/envs/python3/lib/python3.10/site-packages (from sagemaker) (3.0.0)\n",
      "Requirement already satisfied: tqdm in /home/ec2-user/anaconda3/envs/python3/lib/python3.10/site-packages (from sagemaker) (4.67.1)\n",
      "Requirement already satisfied: urllib3<3.0.0,>=1.26.8 in /home/ec2-user/anaconda3/envs/python3/lib/python3.10/site-packages (from sagemaker) (2.3.0)\n",
      "Requirement already satisfied: uvicorn in /home/ec2-user/anaconda3/envs/python3/lib/python3.10/site-packages (from sagemaker) (0.34.0)\n",
      "Requirement already satisfied: botocore<1.37.0,>=1.36.23 in /home/ec2-user/anaconda3/envs/python3/lib/python3.10/site-packages (from boto3<2.0,>=1.35.75->sagemaker) (1.36.23)\n",
      "Requirement already satisfied: jmespath<2.0.0,>=0.7.1 in /home/ec2-user/anaconda3/envs/python3/lib/python3.10/site-packages (from boto3<2.0,>=1.35.75->sagemaker) (1.0.1)\n",
      "Requirement already satisfied: s3transfer<0.12.0,>=0.11.0 in /home/ec2-user/anaconda3/envs/python3/lib/python3.10/site-packages (from boto3<2.0,>=1.35.75->sagemaker) (0.11.2)\n",
      "Requirement already satisfied: zipp>=0.5 in /home/ec2-user/anaconda3/envs/python3/lib/python3.10/site-packages (from importlib-metadata<7.0,>=1.4.0->sagemaker) (3.21.0)\n",
      "Requirement already satisfied: antlr4-python3-runtime==4.9.* in /home/ec2-user/anaconda3/envs/python3/lib/python3.10/site-packages (from omegaconf<=2.3,>=2.2->sagemaker) (4.9.3)\n",
      "Requirement already satisfied: pyparsing!=3.0.5,>=2.0.2 in /home/ec2-user/anaconda3/envs/python3/lib/python3.10/site-packages (from packaging>=20.0->sagemaker) (3.2.1)\n",
      "Requirement already satisfied: pydantic<3.0.0,>=2.0.0 in /home/ec2-user/anaconda3/envs/python3/lib/python3.10/site-packages (from sagemaker-core<2.0.0,>=1.0.17->sagemaker) (2.10.6)\n",
      "Requirement already satisfied: rich<14.0.0,>=13.0.0 in /home/ec2-user/anaconda3/envs/python3/lib/python3.10/site-packages (from sagemaker-core<2.0.0,>=1.0.17->sagemaker) (13.9.4)\n",
      "Requirement already satisfied: mock<5.0,>4.0 in /home/ec2-user/anaconda3/envs/python3/lib/python3.10/site-packages (from sagemaker-core<2.0.0,>=1.0.17->sagemaker) (4.0.3)\n",
      "Requirement already satisfied: jsonschema-specifications>=2023.03.6 in /home/ec2-user/anaconda3/envs/python3/lib/python3.10/site-packages (from jsonschema->sagemaker) (2024.10.1)\n",
      "Requirement already satisfied: referencing>=0.28.4 in /home/ec2-user/anaconda3/envs/python3/lib/python3.10/site-packages (from jsonschema->sagemaker) (0.36.2)\n",
      "Requirement already satisfied: rpds-py>=0.7.1 in /home/ec2-user/anaconda3/envs/python3/lib/python3.10/site-packages (from jsonschema->sagemaker) (0.22.3)\n",
      "Requirement already satisfied: charset_normalizer<4,>=2 in /home/ec2-user/anaconda3/envs/python3/lib/python3.10/site-packages (from requests->sagemaker) (3.4.1)\n",
      "Requirement already satisfied: idna<4,>=2.5 in /home/ec2-user/anaconda3/envs/python3/lib/python3.10/site-packages (from requests->sagemaker) (3.10)\n",
      "Requirement already satisfied: certifi>=2017.4.17 in /home/ec2-user/anaconda3/envs/python3/lib/python3.10/site-packages (from requests->sagemaker) (2025.1.31)\n",
      "Requirement already satisfied: starlette<0.46.0,>=0.40.0 in /home/ec2-user/anaconda3/envs/python3/lib/python3.10/site-packages (from fastapi->sagemaker) (0.45.3)\n",
      "Requirement already satisfied: typing-extensions>=4.8.0 in /home/ec2-user/anaconda3/envs/python3/lib/python3.10/site-packages (from fastapi->sagemaker) (4.12.2)\n",
      "Requirement already satisfied: six in /home/ec2-user/anaconda3/envs/python3/lib/python3.10/site-packages (from google-pasta->sagemaker) (1.17.0)\n",
      "Requirement already satisfied: python-dateutil>=2.8.1 in /home/ec2-user/anaconda3/envs/python3/lib/python3.10/site-packages (from pandas->sagemaker) (2.9.0.post0)\n",
      "Requirement already satisfied: pytz>=2020.1 in /home/ec2-user/anaconda3/envs/python3/lib/python3.10/site-packages (from pandas->sagemaker) (2025.1)\n",
      "Requirement already satisfied: ppft>=1.7.6.9 in /home/ec2-user/anaconda3/envs/python3/lib/python3.10/site-packages (from pathos->sagemaker) (1.7.6.9)\n",
      "Requirement already satisfied: dill>=0.3.9 in /home/ec2-user/anaconda3/envs/python3/lib/python3.10/site-packages (from pathos->sagemaker) (0.3.9)\n",
      "Requirement already satisfied: pox>=0.3.5 in /home/ec2-user/anaconda3/envs/python3/lib/python3.10/site-packages (from pathos->sagemaker) (0.3.5)\n",
      "Requirement already satisfied: multiprocess>=0.70.17 in /home/ec2-user/anaconda3/envs/python3/lib/python3.10/site-packages (from pathos->sagemaker) (0.70.17)\n",
      "Requirement already satisfied: click>=7.0 in /home/ec2-user/anaconda3/envs/python3/lib/python3.10/site-packages (from uvicorn->sagemaker) (8.1.8)\n",
      "Requirement already satisfied: h11>=0.8 in /home/ec2-user/anaconda3/envs/python3/lib/python3.10/site-packages (from uvicorn->sagemaker) (0.14.0)\n",
      "Requirement already satisfied: annotated-types>=0.6.0 in /home/ec2-user/anaconda3/envs/python3/lib/python3.10/site-packages (from pydantic<3.0.0,>=2.0.0->sagemaker-core<2.0.0,>=1.0.17->sagemaker) (0.7.0)\n",
      "Requirement already satisfied: pydantic-core==2.27.2 in /home/ec2-user/anaconda3/envs/python3/lib/python3.10/site-packages (from pydantic<3.0.0,>=2.0.0->sagemaker-core<2.0.0,>=1.0.17->sagemaker) (2.27.2)\n",
      "Requirement already satisfied: markdown-it-py>=2.2.0 in /home/ec2-user/anaconda3/envs/python3/lib/python3.10/site-packages (from rich<14.0.0,>=13.0.0->sagemaker-core<2.0.0,>=1.0.17->sagemaker) (3.0.0)\n",
      "Requirement already satisfied: pygments<3.0.0,>=2.13.0 in /home/ec2-user/anaconda3/envs/python3/lib/python3.10/site-packages (from rich<14.0.0,>=13.0.0->sagemaker-core<2.0.0,>=1.0.17->sagemaker) (2.19.1)\n",
      "Requirement already satisfied: anyio<5,>=3.6.2 in /home/ec2-user/anaconda3/envs/python3/lib/python3.10/site-packages (from starlette<0.46.0,>=0.40.0->fastapi->sagemaker) (4.8.0)\n",
      "Requirement already satisfied: exceptiongroup>=1.0.2 in /home/ec2-user/anaconda3/envs/python3/lib/python3.10/site-packages (from anyio<5,>=3.6.2->starlette<0.46.0,>=0.40.0->fastapi->sagemaker) (1.2.2)\n",
      "Requirement already satisfied: sniffio>=1.1 in /home/ec2-user/anaconda3/envs/python3/lib/python3.10/site-packages (from anyio<5,>=3.6.2->starlette<0.46.0,>=0.40.0->fastapi->sagemaker) (1.3.1)\n",
      "Requirement already satisfied: mdurl~=0.1 in /home/ec2-user/anaconda3/envs/python3/lib/python3.10/site-packages (from markdown-it-py>=2.2.0->rich<14.0.0,>=13.0.0->sagemaker-core<2.0.0,>=1.0.17->sagemaker) (0.1.2)\n",
      "Note: you may need to restart the kernel to use updated packages.\n"
     ]
    }
   ],
   "source": [
    "pip install --upgrade sagemaker"
   ]
  },
  {
   "cell_type": "code",
   "execution_count": 94,
   "id": "bcf705fd-1db5-4c96-a204-fd41ad72950f",
   "metadata": {},
   "outputs": [],
   "source": [
    "import sagemaker\n",
    "import boto3\n",
    "from sagemaker import image_uris\n",
    "from sagemaker.session import s3_input, Session"
   ]
  },
  {
   "cell_type": "raw",
   "id": "7d7bdac1-3207-4f14-a480-30078f7c4195",
   "metadata": {},
   "source": [
    "'''import sagemaker is used to import the Amazon SageMaker Python SDK, \n",
    " which provides an interface for interacting with AWS SageMaker.\n",
    "It allows you to train, deploy, and manage machine learning models on AWS.'''"
   ]
  },
  {
   "cell_type": "markdown",
   "id": "2ce7d490-1f6c-4550-861d-f22f0b943e9e",
   "metadata": {},
   "source": [
    "'''We are importing the boto3 library, which allows us to automate AWS services like S3,\n",
    "SageMaker, EC2, DynamoDB, Lambda, and many more.\n",
    "\n",
    "🔹 Why is boto3 Important in AWS SageMaker?\n",
    "For a data scientist working with AWS SageMaker, boto3 is essential for:\n",
    "✅ Managing SageMaker training jobs (starting, stopping, monitoring)\n",
    "✅ Deploying machine learning models to SageMaker endpoints\n",
    "✅ Automating data pipeline workflows (loading data from S3, triggering Lambda functions)\n",
    "✅ Controlling AWS resources (managing instances, setting up permissions)'''"
   ]
  },
  {
   "cell_type": "code",
   "execution_count": 89,
   "id": "14a97342-51c4-4bef-9c56-e4e630ff4475",
   "metadata": {},
   "outputs": [
    {
     "name": "stdout",
     "output_type": "stream",
     "text": [
      "eu-north-1\n"
     ]
    }
   ],
   "source": [
    "bucket_name = 'bank-application-nishi-24'\n",
    "my_region = boto3.session.Session().region_name  #Set the region \n",
    "print(my_region)"
   ]
  },
  {
   "cell_type": "raw",
   "id": "dca5a60f-69cf-4181-a5a4-165e3629159c",
   "metadata": {},
   "source": [
    "'''boto3.session.Session()\n",
    "\n",
    "Creates a new AWS session.\n",
    "If no region is explicitly set, it tries to detect the default region from the AWS configuration (~/.aws/config or environment variables).\n",
    ".region_name\n",
    "\n",
    "Retrieves the current AWS region for the session.\n",
    "If no region is set, it returns None.\n",
    "Printing my_region\n",
    "It prints the detected AWS region, e.g., \"us-east-1\", \"ap-south-1\", etc.\n",
    "If AWS credentials or configuration are missing, it may return None.'''"
   ]
  },
  {
   "cell_type": "code",
   "execution_count": 88,
   "id": "98f5ad39-030f-4f0e-b934-2883950c35a1",
   "metadata": {},
   "outputs": [
    {
     "name": "stdout",
     "output_type": "stream",
     "text": [
      "S3 error: An error occurred (BucketAlreadyOwnedByYou) when calling the CreateBucket operation: Your previous request to create the named bucket succeeded and you already own it.\n"
     ]
    }
   ],
   "source": [
    "s3 = boto3.client('s3')\n",
    "\n",
    "try:\n",
    "    if my_region == 'eu-north-1':\n",
    "        s3.create_bucket(\n",
    "            Bucket=bucket_name,\n",
    "            CreateBucketConfiguration={'LocationConstraint': my_region}  # Specify region explicitly\n",
    "        )\n",
    "    print('S3 bucket created successfully')\n",
    "except Exception as e:\n",
    "    print('S3 error:', e)"
   ]
  },
  {
   "cell_type": "raw",
   "id": "40d36bb8-950f-428b-9d4b-c87709e66bde",
   "metadata": {},
   "source": [
    "This creates an S3 client using boto3, which allows interaction with AWS S3.\n",
    "This condition ensures that the bucket is created only if the region is eu-north-1 (Stockholm, Sweden).\n",
    "If my_region is different or None, the bucket creation step is skipped.\n",
    "Calls the create_bucket function to create an S3 bucket with:\n",
    "Bucket=bucket_name → Specifies the bucket name (must be unique).\n",
    "CreateBucketConfiguration={'LocationConstraint': my_region} → Explicitly sets the region for the bucket (needed for non-default regions).\n",
    "\n",
    "If the bucket is created successfully, this message confirms it.\n",
    "If an error occurs (e.g., invalid bucket name, permission issue), it prints the error instead of stopping the script.\n",
    "\n",
    "✅ Ensures the bucket is created only in the specified region (eu-north-1).\n",
    "✅ Explicitly sets the location constraint, avoiding region mismatch errors.\n",
    "✅ Uses error handling to catch and display issues instead of failing silently.\n",
    "✅ Helps in automation by programmatically creating a bucket instead of manually using the AWS\n",
    "\n",
    "\n",
    "\n",
    "                                     "
   ]
  },
  {
   "cell_type": "code",
   "execution_count": 76,
   "id": "f0623aa3-2381-4e50-8c89-3ea77cb01617",
   "metadata": {},
   "outputs": [
    {
     "name": "stdout",
     "output_type": "stream",
     "text": [
      "s3://bank-application-nishi-24/xgboost-as-a-built-in-algo/output\n"
     ]
    }
   ],
   "source": [
    "# setting an output path where the trained model will be saved\n",
    "prefix = 'xgboost-as-a-built-in-algo'\n",
    "output_path = 's3://{}/{}/output'.format(bucket_name,prefix)\n",
    "print(output_path)"
   ]
  },
  {
   "cell_type": "raw",
   "id": "c2a02b5a-6a89-43e3-aa69-198bf1225e2c",
   "metadata": {},
   "source": [
    "This prefix is used to organize files within the S3 bucket.\n",
    "It acts like a folder inside the bucket, helping structure saved models.\n",
    "output_path = 's3://{}/{}/output'.format(bucket_name, prefix)\n",
    "Uses Python string formatting to create an S3 path where the trained model will be saved.\n",
    "Breakdown of the format string:\n",
    "'s3://' → Specifies that this is an S3 URL.\n",
    "{} → Placeholder for the bucket name (e.g., 'bank-application-nishi-24').\n",
    "{} → Placeholder for the prefix (subfolder name: 'xgboost-as-a-built-in-algo').\n",
    "output → A subfolder inside the prefix to store model artifacts.\n",
    "\n",
    "✅ Organized storage: Saves the trained model in a structured way.\n",
    "✅ Automated storage path: No need to manually specify S3 locations.\n",
    "✅ Essential for SageMaker Training Jobs: SageMaker automatically saves model artifacts here after training."
   ]
  },
  {
   "cell_type": "code",
   "execution_count": 77,
   "id": "ce99602e-90de-4954-bb62-ea7d6664cfcb",
   "metadata": {},
   "outputs": [
    {
     "name": "stdout",
     "output_type": "stream",
     "text": [
      "Sucess:downloaded bank_clean.csv\n",
      "Sucess: Data loaded into dataframe\n"
     ]
    }
   ],
   "source": [
    "import pandas as pd\n",
    "import urllib\n",
    "try:\n",
    "    urllib.request.urlretrieve(\"https://d1.awsstatic.com/tmt/build-train-deploy-machine-learning-model-sagemaker/bank_clean.27f01fbbdf43271788427f3682996ae29ceca05d.csv\", \"bank_clean.csv\")\n",
    "    print('Sucess:downloaded bank_clean.csv')\n",
    "except Exception as e:\n",
    "    print('Data load error: ',e)\n",
    "\n",
    "try:\n",
    "    model_data = pd.read_csv('./bank_clean.csv',index_col=0)\n",
    "    print('Sucess: Data loaded into dataframe')\n",
    "except Exception as e:\n",
    "    print('data load error: ',e)"
   ]
  },
  {
   "cell_type": "code",
   "execution_count": 78,
   "id": "6568aeff-11d1-4892-b4da-85bbadb9b5f4",
   "metadata": {},
   "outputs": [
    {
     "name": "stdout",
     "output_type": "stream",
     "text": [
      "(28831, 61) (12357, 61)\n"
     ]
    }
   ],
   "source": [
    "#Train test split\n",
    "\n",
    "import numpy as np\n",
    "train_data,test_data = np.split(model_data.sample(frac=1,random_state=1729),[int(0.7*len(model_data))])\n",
    "print(train_data.shape,test_data.shape)\n"
   ]
  },
  {
   "cell_type": "raw",
   "id": "f57b36da-77ba-4080-9e8a-f2600c000ac0",
   "metadata": {},
   "source": [
    "✅ Shuffling ensures randomness, preventing order bias.\n",
    "✅ Fixed random seed (random_state) ensures results are reproducible.\n",
    "✅ Uses NumPy's split() instead of train_test_split() (from sklearn)."
   ]
  },
  {
   "cell_type": "markdown",
   "id": "0794bdf1-7160-497e-9000-5e3d5f79c5d1",
   "metadata": {},
   "source": [
    "Downloading and dataset storing in s3"
   ]
  },
  {
   "cell_type": "code",
   "execution_count": 79,
   "id": "344d6314-70ff-4cdd-90e0-8527bd27bf21",
   "metadata": {},
   "outputs": [
    {
     "data": {
      "text/html": [
       "<pre style=\"white-space:pre;overflow-x:auto;line-height:normal;font-family:Menlo,'DejaVu Sans Mono',consolas,'Courier New',monospace\"><span style=\"color: #7fbfbf; text-decoration-color: #7fbfbf\">[03/03/25 16:36:46] </span><span style=\"color: #0069ff; text-decoration-color: #0069ff; font-weight: bold\">INFO    </span> Found credentials from IAM Role:                                   <a href=\"file:///home/ec2-user/anaconda3/envs/python3/lib/python3.10/site-packages/botocore/credentials.py\" target=\"_blank\"><span style=\"color: #7f7f7f; text-decoration-color: #7f7f7f\">credentials.py</span></a><span style=\"color: #7f7f7f; text-decoration-color: #7f7f7f\">:</span><a href=\"file:///home/ec2-user/anaconda3/envs/python3/lib/python3.10/site-packages/botocore/credentials.py#1075\" target=\"_blank\"><span style=\"color: #7f7f7f; text-decoration-color: #7f7f7f\">1075</span></a>\n",
       "<span style=\"color: #7fbfbf; text-decoration-color: #7fbfbf\">                    </span>         BaseNotebookInstanceEc2InstanceRole                                <span style=\"color: #7f7f7f; text-decoration-color: #7f7f7f\">                   </span>\n",
       "</pre>\n"
      ],
      "text/plain": [
       "\u001b[2;36m[03/03/25 16:36:46]\u001b[0m\u001b[2;36m \u001b[0m\u001b[1;38;2;0;105;255mINFO    \u001b[0m Found credentials from IAM Role:                                   \u001b]8;id=221081;file:///home/ec2-user/anaconda3/envs/python3/lib/python3.10/site-packages/botocore/credentials.py\u001b\\\u001b[2mcredentials.py\u001b[0m\u001b]8;;\u001b\\\u001b[2m:\u001b[0m\u001b]8;id=105367;file:///home/ec2-user/anaconda3/envs/python3/lib/python3.10/site-packages/botocore/credentials.py#1075\u001b\\\u001b[2m1075\u001b[0m\u001b]8;;\u001b\\\n",
       "\u001b[2;36m                    \u001b[0m         BaseNotebookInstanceEc2InstanceRole                                \u001b[2m                   \u001b[0m\n"
      ]
     },
     "metadata": {},
     "output_type": "display_data"
    }
   ],
   "source": [
    "## Saving Train And Test Into Buckets\n",
    "## We start with Train Data\n",
    "from sagemaker.inputs import TrainingInput\n",
    "import os\n",
    "pd.concat([train_data['y_yes'], train_data.drop(['y_no', 'y_yes'], \n",
    "                                                axis=1)], \n",
    "                                                axis=1).to_csv('train.csv', index=False, header=False)\n",
    "boto3.Session().resource('s3').Bucket(bucket_name).Object(os.path.join(prefix, 'train/train.csv')).upload_file('train.csv')\n",
    "s3_input_train = TrainingInput(s3_data='s3://{}/{}/train'.format(bucket_name, prefix), content_type='csv')"
   ]
  },
  {
   "cell_type": "code",
   "execution_count": 80,
   "id": "ce90c68b-aa2f-49c0-87ea-8cb8dba05f4a",
   "metadata": {},
   "outputs": [
    {
     "data": {
      "text/html": [
       "<pre style=\"white-space:pre;overflow-x:auto;line-height:normal;font-family:Menlo,'DejaVu Sans Mono',consolas,'Courier New',monospace\"><span style=\"color: #7fbfbf; text-decoration-color: #7fbfbf\">[03/03/25 16:36:47] </span><span style=\"color: #0069ff; text-decoration-color: #0069ff; font-weight: bold\">INFO    </span> Found credentials from IAM Role:                                   <a href=\"file:///home/ec2-user/anaconda3/envs/python3/lib/python3.10/site-packages/botocore/credentials.py\" target=\"_blank\"><span style=\"color: #7f7f7f; text-decoration-color: #7f7f7f\">credentials.py</span></a><span style=\"color: #7f7f7f; text-decoration-color: #7f7f7f\">:</span><a href=\"file:///home/ec2-user/anaconda3/envs/python3/lib/python3.10/site-packages/botocore/credentials.py#1075\" target=\"_blank\"><span style=\"color: #7f7f7f; text-decoration-color: #7f7f7f\">1075</span></a>\n",
       "<span style=\"color: #7fbfbf; text-decoration-color: #7fbfbf\">                    </span>         BaseNotebookInstanceEc2InstanceRole                                <span style=\"color: #7f7f7f; text-decoration-color: #7f7f7f\">                   </span>\n",
       "</pre>\n"
      ],
      "text/plain": [
       "\u001b[2;36m[03/03/25 16:36:47]\u001b[0m\u001b[2;36m \u001b[0m\u001b[1;38;2;0;105;255mINFO    \u001b[0m Found credentials from IAM Role:                                   \u001b]8;id=312212;file:///home/ec2-user/anaconda3/envs/python3/lib/python3.10/site-packages/botocore/credentials.py\u001b\\\u001b[2mcredentials.py\u001b[0m\u001b]8;;\u001b\\\u001b[2m:\u001b[0m\u001b]8;id=20039;file:///home/ec2-user/anaconda3/envs/python3/lib/python3.10/site-packages/botocore/credentials.py#1075\u001b\\\u001b[2m1075\u001b[0m\u001b]8;;\u001b\\\n",
       "\u001b[2;36m                    \u001b[0m         BaseNotebookInstanceEc2InstanceRole                                \u001b[2m                   \u001b[0m\n"
      ]
     },
     "metadata": {},
     "output_type": "display_data"
    }
   ],
   "source": [
    "pd.concat([test_data['y_yes'], test_data.drop(['y_no', 'y_yes'], \n",
    "                                                axis=1)], \n",
    "                                                axis=1).to_csv('test.csv', index=False, header=False)\n",
    "boto3.Session().resource('s3').Bucket(bucket_name).Object(os.path.join(prefix, 'test/test.csv')).upload_file('test.csv')\n",
    "s3_input_test = TrainingInput(s3_data='s3://{}/{}/test'.format(bucket_name, prefix), content_type='csv')"
   ]
  },
  {
   "cell_type": "markdown",
   "id": "263e0e80-a6c9-4cc5-87ff-3d5e6f4fdc39",
   "metadata": {},
   "source": [
    "Building and Deploying Using Xgboost Inbuilt Algorithm"
   ]
  },
  {
   "cell_type": "code",
   "execution_count": 95,
   "id": "acb18138-bdb1-4617-924c-27897e10b10a",
   "metadata": {},
   "outputs": [
    {
     "data": {
      "text/html": [
       "<pre style=\"white-space:pre;overflow-x:auto;line-height:normal;font-family:Menlo,'DejaVu Sans Mono',consolas,'Courier New',monospace\"><span style=\"color: #7fbfbf; text-decoration-color: #7fbfbf\">[03/03/25 16:54:28] </span><span style=\"color: #0069ff; text-decoration-color: #0069ff; font-weight: bold\">INFO    </span> Ignoring unnecessary instance type: ml.t3.medium.                    <a href=\"file:///home/ec2-user/anaconda3/envs/python3/lib/python3.10/site-packages/sagemaker/image_uris.py\" target=\"_blank\"><span style=\"color: #7f7f7f; text-decoration-color: #7f7f7f\">image_uris.py</span></a><span style=\"color: #7f7f7f; text-decoration-color: #7f7f7f\">:</span><a href=\"file:///home/ec2-user/anaconda3/envs/python3/lib/python3.10/site-packages/sagemaker/image_uris.py#530\" target=\"_blank\"><span style=\"color: #7f7f7f; text-decoration-color: #7f7f7f\">530</span></a>\n",
       "</pre>\n"
      ],
      "text/plain": [
       "\u001b[2;36m[03/03/25 16:54:28]\u001b[0m\u001b[2;36m \u001b[0m\u001b[1;38;2;0;105;255mINFO    \u001b[0m Ignoring unnecessary instance type: ml.t3.medium.                    \u001b]8;id=835190;file:///home/ec2-user/anaconda3/envs/python3/lib/python3.10/site-packages/sagemaker/image_uris.py\u001b\\\u001b[2mimage_uris.py\u001b[0m\u001b]8;;\u001b\\\u001b[2m:\u001b[0m\u001b]8;id=544754;file:///home/ec2-user/anaconda3/envs/python3/lib/python3.10/site-packages/sagemaker/image_uris.py#530\u001b\\\u001b[2m530\u001b[0m\u001b]8;;\u001b\\\n"
      ]
     },
     "metadata": {},
     "output_type": "display_data"
    }
   ],
   "source": [
    "# this line automatically looks for the XGBoost image URI and builds an XGBoost container.\n",
    "# specify the repo_version depending on your preference.\n",
    "container = image_uris.retrieve(\n",
    "    framework='xgboost',\n",
    "    region= boto3.session.Session().region_name,\n",
    "    instance_type='ml.t3.medium',\n",
    "    version='1.5-1')"
   ]
  },
  {
   "cell_type": "markdown",
   "id": "789a1c5a-980f-41ec-8486-2c84c9443dfe",
   "metadata": {},
   "source": [
    "Purpose: This code fetches the location (URI) of a pre-built Docker image for XGBoost, a popular machine learning algorithm, tailored to your specified settings.\n",
    "\n",
    "framework='xgboost': Indicates that you're interested in using the XGBoost algorithm.\n",
    "\n",
    "region=boto3.session.Session().region_name: Automatically detects and uses your current AWS region to ensure the Docker image is sourced from the correct regional repository.\n",
    "\n",
    "instance_type='ml.t3.medium': Specifies the type of SageMaker instance you plan to use for training, ensuring compatibility between the instance's architecture and the Docker image.\n",
    "\n",
    "version='1.5-1': Selects the specific version of the XGBoost algorithm you wish to utilize.\n",
    "\n",
    "In summary, this code helps SageMaker identify the exact Docker image to use for training your model with XGBoost, based on your region, instance type, and desired algorithm version."
   ]
  },
  {
   "cell_type": "code",
   "execution_count": 96,
   "id": "a7a31739-92c7-4372-afe2-a9760872ffd5",
   "metadata": {},
   "outputs": [],
   "source": [
    "# initialize hyperparameters\n",
    "hyperparameters = {\"max_depth\":\"5\",\n",
    "                   \"eta\":\"0.2\",\n",
    "                   \"gamma\":\"4\",\n",
    "                   \"min_child_weight\":\"6\",\n",
    "                   \"subsample\":\"0.7\",\n",
    "                   \"objective\":\"binary:logistic\",\n",
    "                   \"num_round\":50}"
   ]
  },
  {
   "cell_type": "markdown",
   "id": "5bed3036-9e8c-4649-8afa-e8053e472a69",
   "metadata": {},
   "source": [
    "max_depth: Specifies the maximum depth of each tree. Deeper trees can model more complex patterns but may lead to overfitting. In this case, it's set to 5, indicating that each tree can have up to 5 levels.\n",
    "\n",
    "eta (also known as learning rate): Controls the contribution of each tree to the final model. Lower values make the model more robust to overfitting but require more boosting rounds. Here, it's set to 0.2.\n",
    "\n",
    "gamma: Defines the minimum loss reduction required to make a further partition on a leaf node. Higher values lead to more conservative models. A value of 4 means a node will split only if it results in a loss reduction of at least 4.\n",
    "\n",
    "min_child_weight: Determines the minimum sum of instance weights needed in a child node. Higher values prevent the model from learning relations that might be highly specific to the particular sample selected for a tree. It's set to 6 here.\n",
    "\n",
    "subsample: Denotes the fraction of the training data to be randomly sampled for each tree. Using a subset can prevent overfitting. A value of 0.7 means each tree is built using 70% of the data.\n",
    "\n",
    "objective: Specifies the learning task and the corresponding loss function. 'binary:logistic' indicates a binary classification problem with logistic regression applied to output probabilities.\n",
    "\n",
    "num_round: Indicates the number of boosting iterations, i.e., the number of trees to be added. Here, it's set to 50."
   ]
  },
  {
   "cell_type": "code",
   "execution_count": 101,
   "id": "38271313-1802-4fdc-87dc-edfea67bcba3",
   "metadata": {},
   "outputs": [],
   "source": [
    "#constructing a sagemaker estimator that calls the xgboost container\n",
    "from sagemaker.estimator import Estimator\n",
    "import boto3\n",
    "output_path = 's3://{}/{}/output'.format(bucket_name,prefix)\n",
    "\n",
    "\n",
    "estimator = sagemaker.estimator.Estimator(image_uri=container, \n",
    "                                          hyperparameters=hyperparameters,\n",
    "                                          role=sagemaker.get_execution_role(),\n",
    "                                          instance_count=1, \n",
    "                                          instance_type='ml.m5.large', \n",
    "                                          volume_size=5, # 5 GB \n",
    "                                          output_path=output_path,\n",
    "                                          use_spot_instances=True,\n",
    "                                          max_run=300,\n",
    "                                          max_wait=600)"
   ]
  },
  {
   "cell_type": "markdown",
   "id": "2ddb2841-5ac3-4d5c-9215-70184133a4eb",
   "metadata": {},
   "source": [
    "Yes, you can change the instance type for your Amazon SageMaker training job independently of the instance type used for your SageMaker notebook. The instance type specified in your notebook determines the computational resources for the notebook environment, while the instance type defined in your training job configuration determines the resources allocated for that specific training task.\n",
    "\n",
    "To modify the instance type for your training job, adjust the instance_type parameter in your estimator configuration. For example, if you previously set it to 'ml.t3.medium', you can change it to a different instance type, such as 'ml.m5.large', as shown"
   ]
  },
  {
   "cell_type": "code",
   "execution_count": 102,
   "id": "8983a151-ffa3-40b0-805b-b48d80e66cd1",
   "metadata": {},
   "outputs": [
    {
     "data": {
      "text/html": [
       "<pre style=\"white-space:pre;overflow-x:auto;line-height:normal;font-family:Menlo,'DejaVu Sans Mono',consolas,'Courier New',monospace\"><span style=\"color: #7fbfbf; text-decoration-color: #7fbfbf\">[03/03/25 17:31:47] </span><span style=\"color: #0069ff; text-decoration-color: #0069ff; font-weight: bold\">INFO    </span> SageMaker Python SDK will collect telemetry to help us better  <a href=\"file:///home/ec2-user/anaconda3/envs/python3/lib/python3.10/site-packages/sagemaker/telemetry/telemetry_logging.py\" target=\"_blank\"><span style=\"color: #7f7f7f; text-decoration-color: #7f7f7f\">telemetry_logging.py</span></a><span style=\"color: #7f7f7f; text-decoration-color: #7f7f7f\">:</span><a href=\"file:///home/ec2-user/anaconda3/envs/python3/lib/python3.10/site-packages/sagemaker/telemetry/telemetry_logging.py#91\" target=\"_blank\"><span style=\"color: #7f7f7f; text-decoration-color: #7f7f7f\">91</span></a>\n",
       "<span style=\"color: #7fbfbf; text-decoration-color: #7fbfbf\">                    </span>         understand our user's needs, diagnose issues, and deliver      <span style=\"color: #7f7f7f; text-decoration-color: #7f7f7f\">                       </span>\n",
       "<span style=\"color: #7fbfbf; text-decoration-color: #7fbfbf\">                    </span>         additional features.                                           <span style=\"color: #7f7f7f; text-decoration-color: #7f7f7f\">                       </span>\n",
       "<span style=\"color: #7fbfbf; text-decoration-color: #7fbfbf\">                    </span>         To opt out of telemetry, please disable via TelemetryOptOut    <span style=\"color: #7f7f7f; text-decoration-color: #7f7f7f\">                       </span>\n",
       "<span style=\"color: #7fbfbf; text-decoration-color: #7fbfbf\">                    </span>         parameter in SDK defaults config. For more information, refer  <span style=\"color: #7f7f7f; text-decoration-color: #7f7f7f\">                       </span>\n",
       "<span style=\"color: #7fbfbf; text-decoration-color: #7fbfbf\">                    </span>         to                                                             <span style=\"color: #7f7f7f; text-decoration-color: #7f7f7f\">                       </span>\n",
       "<span style=\"color: #7fbfbf; text-decoration-color: #7fbfbf\">                    </span>         <span style=\"color: #0069ff; text-decoration-color: #0069ff; text-decoration: underline\">https://sagemaker.readthedocs.io/en/stable/overview.html#confi</span> <span style=\"color: #7f7f7f; text-decoration-color: #7f7f7f\">                       </span>\n",
       "<span style=\"color: #7fbfbf; text-decoration-color: #7fbfbf\">                    </span>         <span style=\"color: #0069ff; text-decoration-color: #0069ff; text-decoration: underline\">guring-and-using-defaults-with-the-sagemaker-python-sdk.</span>       <span style=\"color: #7f7f7f; text-decoration-color: #7f7f7f\">                       </span>\n",
       "</pre>\n"
      ],
      "text/plain": [
       "\u001b[2;36m[03/03/25 17:31:47]\u001b[0m\u001b[2;36m \u001b[0m\u001b[1;38;2;0;105;255mINFO    \u001b[0m SageMaker Python SDK will collect telemetry to help us better  \u001b]8;id=204152;file:///home/ec2-user/anaconda3/envs/python3/lib/python3.10/site-packages/sagemaker/telemetry/telemetry_logging.py\u001b\\\u001b[2mtelemetry_logging.py\u001b[0m\u001b]8;;\u001b\\\u001b[2m:\u001b[0m\u001b]8;id=919637;file:///home/ec2-user/anaconda3/envs/python3/lib/python3.10/site-packages/sagemaker/telemetry/telemetry_logging.py#91\u001b\\\u001b[2m91\u001b[0m\u001b]8;;\u001b\\\n",
       "\u001b[2;36m                    \u001b[0m         understand our user's needs, diagnose issues, and deliver      \u001b[2m                       \u001b[0m\n",
       "\u001b[2;36m                    \u001b[0m         additional features.                                           \u001b[2m                       \u001b[0m\n",
       "\u001b[2;36m                    \u001b[0m         To opt out of telemetry, please disable via TelemetryOptOut    \u001b[2m                       \u001b[0m\n",
       "\u001b[2;36m                    \u001b[0m         parameter in SDK defaults config. For more information, refer  \u001b[2m                       \u001b[0m\n",
       "\u001b[2;36m                    \u001b[0m         to                                                             \u001b[2m                       \u001b[0m\n",
       "\u001b[2;36m                    \u001b[0m         \u001b[4;38;2;0;105;255mhttps://sagemaker.readthedocs.io/en/stable/overview.html#confi\u001b[0m \u001b[2m                       \u001b[0m\n",
       "\u001b[2;36m                    \u001b[0m         \u001b[4;38;2;0;105;255mguring-and-using-defaults-with-the-sagemaker-python-sdk.\u001b[0m       \u001b[2m                       \u001b[0m\n"
      ]
     },
     "metadata": {},
     "output_type": "display_data"
    },
    {
     "data": {
      "text/html": [
       "<pre style=\"white-space:pre;overflow-x:auto;line-height:normal;font-family:Menlo,'DejaVu Sans Mono',consolas,'Courier New',monospace\"><span style=\"color: #7fbfbf; text-decoration-color: #7fbfbf\">                    </span><span style=\"color: #0069ff; text-decoration-color: #0069ff; font-weight: bold\">INFO    </span> Creating training-job with name:                                       <a href=\"file:///home/ec2-user/anaconda3/envs/python3/lib/python3.10/site-packages/sagemaker/session.py\" target=\"_blank\"><span style=\"color: #7f7f7f; text-decoration-color: #7f7f7f\">session.py</span></a><span style=\"color: #7f7f7f; text-decoration-color: #7f7f7f\">:</span><a href=\"file:///home/ec2-user/anaconda3/envs/python3/lib/python3.10/site-packages/sagemaker/session.py#1042\" target=\"_blank\"><span style=\"color: #7f7f7f; text-decoration-color: #7f7f7f\">1042</span></a>\n",
       "<span style=\"color: #7fbfbf; text-decoration-color: #7fbfbf\">                    </span>         sagemaker-xgboost-<span style=\"color: #008080; text-decoration-color: #008080; font-weight: bold\">2025</span>-03-03-17-31-47-867                              <span style=\"color: #7f7f7f; text-decoration-color: #7f7f7f\">               </span>\n",
       "</pre>\n"
      ],
      "text/plain": [
       "\u001b[2;36m                   \u001b[0m\u001b[2;36m \u001b[0m\u001b[1;38;2;0;105;255mINFO    \u001b[0m Creating training-job with name:                                       \u001b]8;id=127042;file:///home/ec2-user/anaconda3/envs/python3/lib/python3.10/site-packages/sagemaker/session.py\u001b\\\u001b[2msession.py\u001b[0m\u001b]8;;\u001b\\\u001b[2m:\u001b[0m\u001b]8;id=925902;file:///home/ec2-user/anaconda3/envs/python3/lib/python3.10/site-packages/sagemaker/session.py#1042\u001b\\\u001b[2m1042\u001b[0m\u001b]8;;\u001b\\\n",
       "\u001b[2;36m                    \u001b[0m         sagemaker-xgboost-\u001b[1;36m2025\u001b[0m-03-03-17-31-47-867                              \u001b[2m               \u001b[0m\n"
      ]
     },
     "metadata": {},
     "output_type": "display_data"
    },
    {
     "name": "stdout",
     "output_type": "stream",
     "text": [
      "2025-03-03 17:31:50 Starting - Starting the training job...\n",
      ".....03-03 17:32:22 Downloading - Downloading input data.\n",
      "....\u001b[34m/miniconda3/lib/python3.8/site-packages/xgboost/compat.py:36: FutureWarning: pandas.Int64Index is deprecated and will be removed from pandas in a future version. Use pandas.Index with the appropriate dtype instead.\n",
      "  from pandas import MultiIndex, Int64Index\u001b[0m\n",
      "\u001b[34m[2025-03-03 17:33:59.253 ip-10-0-246-42.eu-north-1.compute.internal:7 INFO utils.py:28] RULE_JOB_STOP_SIGNAL_FILENAME: None\u001b[0m\n",
      "\u001b[34m[2025-03-03 17:33:59.273 ip-10-0-246-42.eu-north-1.compute.internal:7 INFO profiler_config_parser.py:111] User has disabled profiler.\u001b[0m\n",
      "\u001b[34m[2025-03-03:17:33:59:INFO] Imported framework sagemaker_xgboost_container.training\u001b[0m\n",
      "\u001b[34m[2025-03-03:17:33:59:INFO] Failed to parse hyperparameter objective value binary:logistic to Json.\u001b[0m\n",
      "\u001b[34mReturning the value itself\u001b[0m\n",
      "\u001b[34m[2025-03-03:17:33:59:INFO] No GPUs detected (normal if no gpus installed)\u001b[0m\n",
      "\u001b[34m[2025-03-03:17:33:59:INFO] Running XGBoost Sagemaker in algorithm mode\u001b[0m\n",
      "\u001b[34m[2025-03-03:17:33:59:INFO] Determined 0 GPU(s) available on the instance.\u001b[0m\n",
      "\u001b[34m[2025-03-03:17:33:59:INFO] Determined delimiter of CSV input is ','\u001b[0m\n",
      "\u001b[34m[2025-03-03:17:33:59:INFO] Determined delimiter of CSV input is ','\u001b[0m\n",
      "\u001b[34m[2025-03-03:17:33:59:INFO] files path: /opt/ml/input/data/train\u001b[0m\n",
      "\u001b[34m[2025-03-03:17:33:59:INFO] Determined delimiter of CSV input is ','\u001b[0m\n",
      "\u001b[34m[2025-03-03:17:33:59:INFO] files path: /opt/ml/input/data/validation\u001b[0m\n",
      "\u001b[34m[2025-03-03:17:33:59:INFO] Determined delimiter of CSV input is ','\u001b[0m\n",
      "\u001b[34m[2025-03-03:17:33:59:INFO] Single node training.\u001b[0m\n",
      "\u001b[34m[2025-03-03:17:33:59:INFO] Train matrix has 28831 rows and 59 columns\u001b[0m\n",
      "\u001b[34m[2025-03-03:17:33:59:INFO] Validation matrix has 12357 rows\u001b[0m\n",
      "\u001b[34m[2025-03-03 17:33:59.763 ip-10-0-246-42.eu-north-1.compute.internal:7 INFO json_config.py:92] Creating hook from json_config at /opt/ml/input/config/debughookconfig.json.\u001b[0m\n",
      "\u001b[34m[2025-03-03 17:33:59.763 ip-10-0-246-42.eu-north-1.compute.internal:7 INFO hook.py:206] tensorboard_dir has not been set for the hook. SMDebug will not be exporting tensorboard summaries.\u001b[0m\n",
      "\u001b[34m[2025-03-03 17:33:59.765 ip-10-0-246-42.eu-north-1.compute.internal:7 INFO hook.py:259] Saving to /opt/ml/output/tensors\u001b[0m\n",
      "\u001b[34m[2025-03-03 17:33:59.765 ip-10-0-246-42.eu-north-1.compute.internal:7 INFO state_store.py:77] The checkpoint config file /opt/ml/input/config/checkpointconfig.json does not exist.\u001b[0m\n",
      "\u001b[34m[2025-03-03:17:33:59:INFO] Debug hook created from config\u001b[0m\n",
      "\u001b[34m[17:33:59] WARNING: ../src/learner.cc:1115: Starting in XGBoost 1.3.0, the default evaluation metric used with the objective 'binary:logistic' was changed from 'error' to 'logloss'. Explicitly set eval_metric if you'd like to restore the old behavior.\u001b[0m\n",
      "\u001b[34m[2025-03-03 17:33:59.888 ip-10-0-246-42.eu-north-1.compute.internal:7 INFO hook.py:427] Monitoring the collections: metrics\u001b[0m\n",
      "\u001b[34m[2025-03-03 17:33:59.892 ip-10-0-246-42.eu-north-1.compute.internal:7 INFO hook.py:491] Hook is writing from the hook with pid: 7\u001b[0m\n",
      "\u001b[34m[0]#011train-logloss:0.57290#011validation-logloss:0.57388\u001b[0m\n",
      "\u001b[34m[1]#011train-logloss:0.49291#011validation-logloss:0.49484\u001b[0m\n",
      "\u001b[34m[2]#011train-logloss:0.43699#011validation-logloss:0.44017\u001b[0m\n",
      "\u001b[34m[3]#011train-logloss:0.39664#011validation-logloss:0.40049\u001b[0m\n",
      "\u001b[34m[4]#011train-logloss:0.36733#011validation-logloss:0.37209\u001b[0m\n",
      "\u001b[34m[5]#011train-logloss:0.34571#011validation-logloss:0.35146\u001b[0m\n",
      "\u001b[34m[6]#011train-logloss:0.32988#011validation-logloss:0.33640\u001b[0m\n",
      "\u001b[34m[7]#011train-logloss:0.31788#011validation-logloss:0.32478\u001b[0m\n",
      "\u001b[34m[8]#011train-logloss:0.30914#011validation-logloss:0.31662\u001b[0m\n",
      "\u001b[34m[9]#011train-logloss:0.30223#011validation-logloss:0.31043\u001b[0m\n",
      "\u001b[34m[10]#011train-logloss:0.29718#011validation-logloss:0.30609\u001b[0m\n",
      "\u001b[34m[11]#011train-logloss:0.29319#011validation-logloss:0.30272\u001b[0m\n",
      "\u001b[34m[12]#011train-logloss:0.29026#011validation-logloss:0.30030\u001b[0m\n",
      "\u001b[34m[13]#011train-logloss:0.28768#011validation-logloss:0.29825\u001b[0m\n",
      "\u001b[34m[14]#011train-logloss:0.28566#011validation-logloss:0.29661\u001b[0m\n",
      "\u001b[34m[15]#011train-logloss:0.28434#011validation-logloss:0.29565\u001b[0m\n",
      "\u001b[34m[16]#011train-logloss:0.28329#011validation-logloss:0.29465\u001b[0m\n",
      "\u001b[34m[17]#011train-logloss:0.28189#011validation-logloss:0.29366\u001b[0m\n",
      "\u001b[34m[18]#011train-logloss:0.28103#011validation-logloss:0.29345\u001b[0m\n",
      "\u001b[34m[19]#011train-logloss:0.28020#011validation-logloss:0.29296\u001b[0m\n",
      "\u001b[34m[20]#011train-logloss:0.27964#011validation-logloss:0.29269\u001b[0m\n",
      "\u001b[34m[21]#011train-logloss:0.27923#011validation-logloss:0.29267\u001b[0m\n",
      "\u001b[34m[22]#011train-logloss:0.27900#011validation-logloss:0.29281\u001b[0m\n",
      "\u001b[34m[23]#011train-logloss:0.27840#011validation-logloss:0.29243\u001b[0m\n",
      "\u001b[34m[24]#011train-logloss:0.27799#011validation-logloss:0.29234\u001b[0m\n",
      "\u001b[34m[25]#011train-logloss:0.27755#011validation-logloss:0.29206\u001b[0m\n",
      "\u001b[34m[26]#011train-logloss:0.27718#011validation-logloss:0.29196\u001b[0m\n",
      "\u001b[34m[27]#011train-logloss:0.27688#011validation-logloss:0.29192\u001b[0m\n",
      "\u001b[34m[28]#011train-logloss:0.27663#011validation-logloss:0.29183\u001b[0m\n",
      "\u001b[34m[29]#011train-logloss:0.27642#011validation-logloss:0.29160\u001b[0m\n",
      "\u001b[34m[30]#011train-logloss:0.27613#011validation-logloss:0.29140\u001b[0m\n",
      "\u001b[34m[31]#011train-logloss:0.27585#011validation-logloss:0.29134\u001b[0m\n",
      "\u001b[34m[32]#011train-logloss:0.27554#011validation-logloss:0.29136\u001b[0m\n",
      "\u001b[34m[33]#011train-logloss:0.27516#011validation-logloss:0.29135\u001b[0m\n",
      "\u001b[34m[34]#011train-logloss:0.27511#011validation-logloss:0.29132\u001b[0m\n",
      "\u001b[34m[35]#011train-logloss:0.27494#011validation-logloss:0.29133\u001b[0m\n",
      "\u001b[34m[36]#011train-logloss:0.27468#011validation-logloss:0.29143\u001b[0m\n",
      "\u001b[34m[37]#011train-logloss:0.27430#011validation-logloss:0.29122\u001b[0m\n",
      "\u001b[34m[38]#011train-logloss:0.27402#011validation-logloss:0.29117\u001b[0m\n",
      "\u001b[34m[39]#011train-logloss:0.27385#011validation-logloss:0.29128\u001b[0m\n",
      "\u001b[34m[40]#011train-logloss:0.27366#011validation-logloss:0.29118\u001b[0m\n",
      "\u001b[34m[41]#011train-logloss:0.27352#011validation-logloss:0.29117\u001b[0m\n",
      "\u001b[34m[42]#011train-logloss:0.27316#011validation-logloss:0.29111\u001b[0m\n",
      "\u001b[34m[43]#011train-logloss:0.27294#011validation-logloss:0.29095\u001b[0m\n",
      "\u001b[34m[44]#011train-logloss:0.27274#011validation-logloss:0.29101\u001b[0m\n",
      "\u001b[34m[45]#011train-logloss:0.27254#011validation-logloss:0.29093\u001b[0m\n",
      "\u001b[34m[46]#011train-logloss:0.27240#011validation-logloss:0.29085\u001b[0m\n",
      "\u001b[34m[47]#011train-logloss:0.27223#011validation-logloss:0.29084\u001b[0m\n",
      "\u001b[34m[48]#011train-logloss:0.27210#011validation-logloss:0.29078\u001b[0m\n",
      "\u001b[34m[49]#011train-logloss:0.27198#011validation-logloss:0.29069\u001b[0m\n",
      "\n",
      "2025-03-03 17:34:17 Training - Training image download completed. Training in progress.\n",
      "2025-03-03 17:34:17 Uploading - Uploading generated training model\n",
      "2025-03-03 17:34:17 Completed - Training job completed\n",
      "Training seconds: 115\n",
      "Billable seconds: 31\n",
      "Managed Spot Training savings: 73.0%\n"
     ]
    }
   ],
   "source": [
    "estimator.fit({'train': s3_input_train, 'validation': s3_input_test})"
   ]
  },
  {
   "cell_type": "markdown",
   "id": "7e21030d-767d-445a-8451-c57249f8f2ff",
   "metadata": {},
   "source": [
    "Deployimg ML model"
   ]
  },
  {
   "cell_type": "code",
   "execution_count": 104,
   "id": "79fd139a-dffe-4921-91b4-c620ccb4b543",
   "metadata": {},
   "outputs": [
    {
     "data": {
      "text/html": [
       "<pre style=\"white-space:pre;overflow-x:auto;line-height:normal;font-family:Menlo,'DejaVu Sans Mono',consolas,'Courier New',monospace\"><span style=\"color: #7fbfbf; text-decoration-color: #7fbfbf\">[03/03/25 19:11:16] </span><span style=\"color: #0069ff; text-decoration-color: #0069ff; font-weight: bold\">INFO    </span> Creating model with name: sagemaker-xgboost-<span style=\"color: #008080; text-decoration-color: #008080; font-weight: bold\">2025</span>-03-03-19-11-16-617    <a href=\"file:///home/ec2-user/anaconda3/envs/python3/lib/python3.10/site-packages/sagemaker/session.py\" target=\"_blank\"><span style=\"color: #7f7f7f; text-decoration-color: #7f7f7f\">session.py</span></a><span style=\"color: #7f7f7f; text-decoration-color: #7f7f7f\">:</span><a href=\"file:///home/ec2-user/anaconda3/envs/python3/lib/python3.10/site-packages/sagemaker/session.py#4094\" target=\"_blank\"><span style=\"color: #7f7f7f; text-decoration-color: #7f7f7f\">4094</span></a>\n",
       "</pre>\n"
      ],
      "text/plain": [
       "\u001b[2;36m[03/03/25 19:11:16]\u001b[0m\u001b[2;36m \u001b[0m\u001b[1;38;2;0;105;255mINFO    \u001b[0m Creating model with name: sagemaker-xgboost-\u001b[1;36m2025\u001b[0m-03-03-19-11-16-617    \u001b]8;id=298155;file:///home/ec2-user/anaconda3/envs/python3/lib/python3.10/site-packages/sagemaker/session.py\u001b\\\u001b[2msession.py\u001b[0m\u001b]8;;\u001b\\\u001b[2m:\u001b[0m\u001b]8;id=879098;file:///home/ec2-user/anaconda3/envs/python3/lib/python3.10/site-packages/sagemaker/session.py#4094\u001b\\\u001b[2m4094\u001b[0m\u001b]8;;\u001b\\\n"
      ]
     },
     "metadata": {},
     "output_type": "display_data"
    },
    {
     "data": {
      "text/html": [
       "<pre style=\"white-space:pre;overflow-x:auto;line-height:normal;font-family:Menlo,'DejaVu Sans Mono',consolas,'Courier New',monospace\"><span style=\"color: #7fbfbf; text-decoration-color: #7fbfbf\">[03/03/25 19:11:17] </span><span style=\"color: #0069ff; text-decoration-color: #0069ff; font-weight: bold\">INFO    </span> Creating endpoint-config with name                                     <a href=\"file:///home/ec2-user/anaconda3/envs/python3/lib/python3.10/site-packages/sagemaker/session.py\" target=\"_blank\"><span style=\"color: #7f7f7f; text-decoration-color: #7f7f7f\">session.py</span></a><span style=\"color: #7f7f7f; text-decoration-color: #7f7f7f\">:</span><a href=\"file:///home/ec2-user/anaconda3/envs/python3/lib/python3.10/site-packages/sagemaker/session.py#5889\" target=\"_blank\"><span style=\"color: #7f7f7f; text-decoration-color: #7f7f7f\">5889</span></a>\n",
       "<span style=\"color: #7fbfbf; text-decoration-color: #7fbfbf\">                    </span>         sagemaker-xgboost-<span style=\"color: #008080; text-decoration-color: #008080; font-weight: bold\">2025</span>-03-03-19-11-16-617                              <span style=\"color: #7f7f7f; text-decoration-color: #7f7f7f\">               </span>\n",
       "</pre>\n"
      ],
      "text/plain": [
       "\u001b[2;36m[03/03/25 19:11:17]\u001b[0m\u001b[2;36m \u001b[0m\u001b[1;38;2;0;105;255mINFO    \u001b[0m Creating endpoint-config with name                                     \u001b]8;id=68591;file:///home/ec2-user/anaconda3/envs/python3/lib/python3.10/site-packages/sagemaker/session.py\u001b\\\u001b[2msession.py\u001b[0m\u001b]8;;\u001b\\\u001b[2m:\u001b[0m\u001b]8;id=991863;file:///home/ec2-user/anaconda3/envs/python3/lib/python3.10/site-packages/sagemaker/session.py#5889\u001b\\\u001b[2m5889\u001b[0m\u001b]8;;\u001b\\\n",
       "\u001b[2;36m                    \u001b[0m         sagemaker-xgboost-\u001b[1;36m2025\u001b[0m-03-03-19-11-16-617                              \u001b[2m               \u001b[0m\n"
      ]
     },
     "metadata": {},
     "output_type": "display_data"
    },
    {
     "data": {
      "text/html": [
       "<pre style=\"white-space:pre;overflow-x:auto;line-height:normal;font-family:Menlo,'DejaVu Sans Mono',consolas,'Courier New',monospace\"><span style=\"color: #7fbfbf; text-decoration-color: #7fbfbf\">                    </span><span style=\"color: #0069ff; text-decoration-color: #0069ff; font-weight: bold\">INFO    </span> Creating endpoint with name sagemaker-xgboost-<span style=\"color: #008080; text-decoration-color: #008080; font-weight: bold\">2025</span>-03-03-19-11-16-617  <a href=\"file:///home/ec2-user/anaconda3/envs/python3/lib/python3.10/site-packages/sagemaker/session.py\" target=\"_blank\"><span style=\"color: #7f7f7f; text-decoration-color: #7f7f7f\">session.py</span></a><span style=\"color: #7f7f7f; text-decoration-color: #7f7f7f\">:</span><a href=\"file:///home/ec2-user/anaconda3/envs/python3/lib/python3.10/site-packages/sagemaker/session.py#4711\" target=\"_blank\"><span style=\"color: #7f7f7f; text-decoration-color: #7f7f7f\">4711</span></a>\n",
       "</pre>\n"
      ],
      "text/plain": [
       "\u001b[2;36m                   \u001b[0m\u001b[2;36m \u001b[0m\u001b[1;38;2;0;105;255mINFO    \u001b[0m Creating endpoint with name sagemaker-xgboost-\u001b[1;36m2025\u001b[0m-03-03-19-11-16-617  \u001b]8;id=799028;file:///home/ec2-user/anaconda3/envs/python3/lib/python3.10/site-packages/sagemaker/session.py\u001b\\\u001b[2msession.py\u001b[0m\u001b]8;;\u001b\\\u001b[2m:\u001b[0m\u001b]8;id=683699;file:///home/ec2-user/anaconda3/envs/python3/lib/python3.10/site-packages/sagemaker/session.py#4711\u001b\\\u001b[2m4711\u001b[0m\u001b]8;;\u001b\\\n"
      ]
     },
     "metadata": {},
     "output_type": "display_data"
    },
    {
     "name": "stdout",
     "output_type": "stream",
     "text": [
      "------!"
     ]
    }
   ],
   "source": [
    "xgb_predictor = estimator.deploy(initial_instance_count=1,instance_type='ml.m5.large')"
   ]
  },
  {
   "cell_type": "markdown",
   "id": "0001932a-f028-4c54-b339-2bfe25d98fd2",
   "metadata": {},
   "source": [
    "Prediction of the Test Data"
   ]
  },
  {
   "cell_type": "code",
   "execution_count": null,
   "id": "a027c373-5316-4fd6-ba4c-a489f271f131",
   "metadata": {
    "scrolled": true
   },
   "outputs": [],
   "source": []
  },
  {
   "cell_type": "code",
   "execution_count": 115,
   "id": "ab72a4f4-17f9-4c46-ac99-3b06c484fb50",
   "metadata": {},
   "outputs": [
    {
     "name": "stdout",
     "output_type": "stream",
     "text": [
      "(12357,)\n"
     ]
    }
   ],
   "source": [
    "from sagemaker.serializers import CSVSerializer\n",
    "test_data_array = test_data.drop(['y_no', 'y_yes'], axis=1).values # Prepare the test data by dropping unnecessary columns and converting to an array\n",
    "xgb_predictor.content_type = 'text/csv' # Set the content type for the inference\n",
    "csv_serializer = CSVSerializer()  # Instantiate the CSVSerializer\n",
    "xgb_predictor.serializer = csv_serializer # Assign the instantiated serializer to the predictor\n",
    "predictions = xgb_predictor.predict(test_data_array).decode('utf-8') # predict!\n",
    "predictions_array = np.loadtxt(predictions.splitlines(), delimiter=',') # Convert the predictions from a string to a NumPy array\n",
    "print(predictions_array.shape)"
   ]
  },
  {
   "cell_type": "markdown",
   "id": "5b60062f-3db6-4780-8099-d99297ea1f49",
   "metadata": {},
   "source": [
    "Imports the CSVSerializer class from the sagemaker.serializers module.\n",
    "Why it’s written this way:\n",
    "SageMaker requires data to be serialized (converted into a specific format) before sending it to the model for inference.\n",
    "CSVSerializer is used to serialize the input data into CSV format, which is a common format for tabular data and is supported by SageMaker.\n",
    "\n",
    "Drops the columns y_no and y_yes from the test_data DataFrame.\n",
    "Converts the remaining data into a NumPy array using .values.\n",
    "Why it’s written this way:\n",
    "y_no and y_yes are likely the target variables (labels) that the model is trying to predict. Since we’re preparing the input data for inference, we don’t need these columns.\n",
    ".values converts the DataFrame into a NumPy array, which is the required input format for the CSVSerializer.\n",
    "\n",
    "Why it’s written this way:\n",
    "SageMaker needs to know the format of the input data being sent to the model. By setting content_type to text/csv, we tell SageMaker that the input data is in CSV format.\n",
    "This ensures that the model can correctly interpret the incoming data.\n",
    "\n",
    "\n",
    "Why it’s written this way:\n",
    "The CSVSerializer is responsible for converting the input data (NumPy array) into a CSV-formatted string that SageMaker can process.\n",
    "This step ensures that the data is properly serialized before being sent to the model.\n",
    "\n",
    "\n",
    "\n",
    "Why it’s written this way:\n",
    "The xgb_predictor is the object used to make predictions with the deployed SageMaker model.By setting the serializer, we ensure that the input data is automatically serialized into CSV format whenever predict is called.\n",
    "\n",
    "\n",
    "What it does:\n",
    "Sends the test_data_array to the deployed SageMaker model for inference.\n",
    "The model returns the predictions as a byte string, which is then decoded into a UTF-8 string using .decode('utf-8').\n",
    "Why it’s written this way:\n",
    "The predict method sends the serialized data to the model and retrieves the predictions.\n",
    "The predictions are returned as a byte string, so we decode it into a regular string for easier processing.\n",
    "\n",
    "\n",
    "What it does:\n",
    "Splits the predictions string into lines (since each line represents a prediction).\n",
    "Uses np.loadtxt to parse the lines into a NumPy array, treating commas (',') as delimiters.\n",
    "Why it’s written this way:\n",
    "The predictions are returned as a CSV-formatted string (e.g., \"0.1,0.9\\n0.2,0.8\").\n",
    "splitlines() splits the string into individual lines, and np.loadtxt parses each line into numerical values.\n",
    "This converts the predictions into a NumPy array, which is easier to work with for further analysis or evaluation.\n",
    "\n",
    "\n",
    "\n",
    "Why it’s written this way:\n",
    "\n",
    "The shape of the array tells us how many predictions were made and the format of the output (e.g., (n_samples, n_classes) for classification or (n_samples,) for regression).\n",
    "This is useful for verifying that the predictions are in the expected format.\n",
    "\n",
    "Summary of the Workflow\n",
    "Prepare the data: Remove unnecessary columns and convert it into a NumPy array.\n",
    "Set up the predictor: Configure the predictor to accept CSV-formatted input.\n",
    "Serialize the data: Use CSVSerializer to convert the data into CSV format.\n",
    "Make predictions: Send the data to the model and retrieve the predictions.\n",
    "Parse the predictions: Convert the predictions from a string into a NumPy array.\n",
    "Verify the output: Check the shape of the predictions to ensure they are in the expected format.\n",
    "\n",
    "This approach ensures that the data is properly formatted and processed at every step, making it compatible with SageMaker’s requirements.\n",
    "\n"
   ]
  },
  {
   "cell_type": "code",
   "execution_count": 116,
   "id": "5c205214-ccc3-42de-ba79-adf7b285e96e",
   "metadata": {},
   "outputs": [
    {
     "data": {
      "text/plain": [
       "array([0.05214286, 0.05660191, 0.05096195, ..., 0.03436061, 0.02942475,\n",
       "       0.03715819])"
      ]
     },
     "execution_count": 116,
     "metadata": {},
     "output_type": "execute_result"
    }
   ],
   "source": [
    "predictions_array"
   ]
  },
  {
   "cell_type": "code",
   "execution_count": 117,
   "id": "ed6a4472-c3a2-4fe0-9c93-d95fa64a0aa5",
   "metadata": {},
   "outputs": [
    {
     "name": "stdout",
     "output_type": "stream",
     "text": [
      "\n",
      "Overall Classification Rate: 89.7%\n",
      "\n",
      "Predicted      No Purchase    Purchase\n",
      "Observed\n",
      "No Purchase    91% (10785)    34% (151)\n",
      "Purchase        9% (1124)     66% (297) \n",
      "\n"
     ]
    }
   ],
   "source": [
    "cm = pd.crosstab(index=test_data['y_yes'], columns=np.round(predictions_array), rownames=['Observed'], colnames=['Predicted'])\n",
    "tn = cm.iloc[0,0]; fn = cm.iloc[1,0]; tp = cm.iloc[1,1]; fp = cm.iloc[0,1]; p = (tp+tn)/(tp+tn+fp+fn)*100\n",
    "print(\"\\n{0:<20}{1:<4.1f}%\\n\".format(\"Overall Classification Rate: \", p))\n",
    "print(\"{0:<15}{1:<15}{2:>8}\".format(\"Predicted\", \"No Purchase\", \"Purchase\"))\n",
    "print(\"Observed\")\n",
    "print(\"{0:<15}{1:<2.0f}% ({2:<}){3:>6.0f}% ({4:<})\".format(\"No Purchase\", tn/(tn+fn)*100,tn, fp/(tp+fp)*100, fp))\n",
    "print(\"{0:<16}{1:<1.0f}% ({2:<}){3:>7.0f}% ({4:<}) \\n\".format(\"Purchase\", fn/(tn+fn)*100,fn, tp/(tp+fp)*100, tp))"
   ]
  },
  {
   "cell_type": "code",
   "execution_count": 121,
   "id": "e38a10bd-99b8-4ae2-ad8c-101c36ee124f",
   "metadata": {},
   "outputs": [
    {
     "name": "stdout",
     "output_type": "stream",
     "text": [
      "All endpoints deleted.\n",
      "Deleting all objects in bucket: bank-application-nishi-24\n",
      "All objects in bucket 'bank-application-nishi-24' deleted.\n"
     ]
    }
   ],
   "source": [
    "import boto3\n",
    "import sagemaker\n",
    "\n",
    "# Initialize SageMaker and S3 clients\n",
    "sagemaker_session = sagemaker.Session()\n",
    "s3_resource = boto3.resource('s3')\n",
    "\n",
    "# Step 1: Delete all SageMaker endpoints\n",
    "def delete_all_endpoints():\n",
    "    sagemaker_client = boto3.client('sagemaker')\n",
    "    endpoints = sagemaker_client.list_endpoints()['Endpoints']\n",
    "    \n",
    "    for endpoint in endpoints:\n",
    "        endpoint_name = endpoint['EndpointName']\n",
    "        print(f\"Deleting endpoint: {endpoint_name}\")\n",
    "        sagemaker_client.delete_endpoint(EndpointName=endpoint_name)\n",
    "    print(\"All endpoints deleted.\")\n",
    "\n",
    "# Step 2: Delete all objects in an S3 bucket\n",
    "def delete_all_objects_in_bucket(bucket_name):\n",
    "    bucket = s3_resource.Bucket(bucket_name)\n",
    "    print(f\"Deleting all objects in bucket: {bucket_name}\")\n",
    "    bucket.objects.all().delete()\n",
    "    print(f\"All objects in bucket '{bucket_name}' deleted.\")\n",
    "\n",
    "# Step 3: Main cleanup function\n",
    "def cleanup_resources(bucket_name):\n",
    "    # Delete all SageMaker endpoints\n",
    "    delete_all_endpoints()\n",
    "    \n",
    "    # Delete all objects in the specified S3 bucket\n",
    "    delete_all_objects_in_bucket(bucket_name)\n",
    "\n",
    "# Specify the S3 bucket name\n",
    "bucket_name = 'bank-application-nishi-24'  # Replace with your bucket name\n",
    "\n",
    "# Run the cleanup\n",
    "cleanup_resources(bucket_name)"
   ]
  },
  {
   "cell_type": "code",
   "execution_count": null,
   "id": "31e1d965-6ae7-4d25-be73-15bb6742657b",
   "metadata": {},
   "outputs": [],
   "source": []
  }
 ],
 "metadata": {
  "kernelspec": {
   "display_name": "conda_python3",
   "language": "python",
   "name": "conda_python3"
  },
  "language_info": {
   "codemirror_mode": {
    "name": "ipython",
    "version": 3
   },
   "file_extension": ".py",
   "mimetype": "text/x-python",
   "name": "python",
   "nbconvert_exporter": "python",
   "pygments_lexer": "ipython3",
   "version": "3.10.16"
  }
 },
 "nbformat": 4,
 "nbformat_minor": 5
}
